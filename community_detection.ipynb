{
 "cells": [
  {
   "cell_type": "code",
   "execution_count": 1,
   "metadata": {},
   "outputs": [],
   "source": [
    "import networkx\n",
    "import math\n",
    "import scipy.optimize\n",
    "import numpy\n",
    "import sys\n",
    "from lib.vis import *\n",
    "from lib.graph_signal_proc import *\n",
    "from lib.optimal_cut import *\n",
    "from lib.time_graph import *\n",
    "from lib.io import *\n",
    "from lib.experiments import *\n",
    "from lib.datasets import *\n",
    "from lib.baselines import *\n",
    "\n",
    "from scipy import linalg\n",
    "import matplotlib.pyplot as plt\n",
    "from IPython.display import Image\n",
    "from numpy.linalg import eigh\n",
    "from IPython.display import SVG"
   ]
  },
  {
   "cell_type": "markdown",
   "metadata": {},
   "source": [
    "# School"
   ]
  },
  {
   "cell_type": "code",
   "execution_count": 2,
   "metadata": {},
   "outputs": [],
   "source": [
    "#K = 2\n",
    "G = read_time_graph(primary_school[\"graph\"], .05)\n",
    "#G.make_connected(0.001)\n",
    "#G = read_time_graph(dblp[\"graph\"], .5)"
   ]
  },
  {
   "cell_type": "code",
   "execution_count": 4,
   "metadata": {},
   "outputs": [
    {
     "ename": "AttributeError",
     "evalue": "'TimeGraph' object has no attribute 'shape'",
     "output_type": "error",
     "traceback": [
      "\u001b[0;31m---------------------------------------------------------------------------\u001b[0m",
      "\u001b[0;31mAttributeError\u001b[0m                            Traceback (most recent call last)",
      "\u001b[0;32m<ipython-input-4-3f6d2702268a>\u001b[0m in \u001b[0;36m<module>\u001b[0;34m\u001b[0m\n\u001b[1;32m      1\u001b[0m \u001b[0mnstc_assign\u001b[0m \u001b[0;34m=\u001b[0m \u001b[0mmulti_cut_hierarchy\u001b[0m\u001b[0;34m(\u001b[0m\u001b[0mG\u001b[0m\u001b[0;34m,\u001b[0m \u001b[0;36m2\u001b[0m\u001b[0;34m,\u001b[0m \u001b[0mnorm\u001b[0m\u001b[0;34m=\u001b[0m\u001b[0;32mTrue\u001b[0m\u001b[0;34m)\u001b[0m\u001b[0;34m\u001b[0m\u001b[0m\n\u001b[0;32m----> 2\u001b[0;31m \u001b[0mpart\u001b[0m \u001b[0;34m=\u001b[0m \u001b[0mget_partitions\u001b[0m\u001b[0;34m(\u001b[0m\u001b[0mG\u001b[0m\u001b[0;34m,\u001b[0m \u001b[0mnstc_assign\u001b[0m\u001b[0;34m)\u001b[0m\u001b[0;34m\u001b[0m\u001b[0m\n\u001b[0m\u001b[1;32m      3\u001b[0m \u001b[0mnstc\u001b[0m \u001b[0;34m=\u001b[0m \u001b[0mevaluate_multi_cut\u001b[0m\u001b[0;34m(\u001b[0m\u001b[0mG\u001b[0m\u001b[0;34m,\u001b[0m \u001b[0mpart\u001b[0m\u001b[0;34m,\u001b[0m \u001b[0mnstc_assign\u001b[0m\u001b[0;34m,\u001b[0m \u001b[0;36m0.08\u001b[0m\u001b[0;34m)\u001b[0m\u001b[0;34m\u001b[0m\u001b[0m\n\u001b[1;32m      4\u001b[0m \u001b[0;34m\u001b[0m\u001b[0m\n\u001b[1;32m      5\u001b[0m \u001b[0mprint\u001b[0m\u001b[0;34m(\u001b[0m\u001b[0;34m\"NSTC\"\u001b[0m\u001b[0;34m,\u001b[0m \u001b[0mnstc\u001b[0m\u001b[0;34m)\u001b[0m\u001b[0;34m\u001b[0m\u001b[0m\n",
      "\u001b[0;32m~/Phd/research/network_process/src_time_cuts/lib/graph_signal_proc.py\u001b[0m in \u001b[0;36mget_partitions\u001b[0;34m(x, node_list)\u001b[0m\n\u001b[1;32m    283\u001b[0m         \u001b[0mP2\u001b[0m \u001b[0;34m=\u001b[0m \u001b[0;34m[\u001b[0m\u001b[0;34m]\u001b[0m\u001b[0;34m\u001b[0m\u001b[0m\n\u001b[1;32m    284\u001b[0m \u001b[0;34m\u001b[0m\u001b[0m\n\u001b[0;32m--> 285\u001b[0;31m         \u001b[0;32mfor\u001b[0m \u001b[0mi\u001b[0m \u001b[0;32min\u001b[0m \u001b[0mrange\u001b[0m\u001b[0;34m(\u001b[0m\u001b[0mx\u001b[0m\u001b[0;34m.\u001b[0m\u001b[0mshape\u001b[0m\u001b[0;34m[\u001b[0m\u001b[0;36m0\u001b[0m\u001b[0;34m]\u001b[0m\u001b[0;34m)\u001b[0m\u001b[0;34m:\u001b[0m\u001b[0;34m\u001b[0m\u001b[0m\n\u001b[0m\u001b[1;32m    286\u001b[0m                 \u001b[0;32mif\u001b[0m \u001b[0mx\u001b[0m\u001b[0;34m[\u001b[0m\u001b[0mi\u001b[0m\u001b[0;34m]\u001b[0m \u001b[0;34m<\u001b[0m \u001b[0;36m0\u001b[0m\u001b[0;34m:\u001b[0m\u001b[0;34m\u001b[0m\u001b[0m\n\u001b[1;32m    287\u001b[0m                         \u001b[0mP1\u001b[0m\u001b[0;34m.\u001b[0m\u001b[0mappend\u001b[0m\u001b[0;34m(\u001b[0m\u001b[0mnode_list\u001b[0m\u001b[0;34m[\u001b[0m\u001b[0mi\u001b[0m\u001b[0;34m]\u001b[0m\u001b[0;34m)\u001b[0m\u001b[0;34m\u001b[0m\u001b[0m\n",
      "\u001b[0;31mAttributeError\u001b[0m: 'TimeGraph' object has no attribute 'shape'"
     ]
    }
   ],
   "source": [
    "nstc_assign = multi_cut_hierarchy(G, 2, norm=True)\n",
    "part = get_partitions(G, nstc_assign)\n",
    "nstc = evaluate_multi_cut(G, part, nstc_assign, 0.08)\n",
    "\n",
    "print(\"NSTC\", nstc)"
   ]
  },
  {
   "cell_type": "code",
   "execution_count": 46,
   "metadata": {},
   "outputs": [],
   "source": [
    "cut = diff_cut(G, norm=True)"
   ]
  },
  {
   "cell_type": "code",
   "execution_count": 16,
   "metadata": {},
   "outputs": [
    {
     "name": "stdout",
     "output_type": "stream",
     "text": [
      "STC {'Modularity': 169.58592297608297, 'N-sparsity': 0.005547964887320804, 'Sparsity': 0.0001244383065446281, 'Cut': 2.5967785809732993}\n"
     ]
    }
   ],
   "source": [
    "stc_assign = multi_cut_kmeans(G, 2, norm=False, dim=10, n=10)\n",
    "\n",
    "part = get_partitions(G, stc_assign)\n",
    "stc = evaluate_multi_cut(G, part, stc_assign, 0.08)\n",
    "\n",
    "print(\"STC\", stc)"
   ]
  },
  {
   "cell_type": "code",
   "execution_count": 47,
   "metadata": {
    "collapsed": true
   },
   "outputs": [],
   "source": [
    "draw_time_graph_cut(G, \"primary_school_td.svg\", cut[\"cut\"])"
   ]
  },
  {
   "cell_type": "code",
   "execution_count": 17,
   "metadata": {},
   "outputs": [],
   "source": [
    "draw_time_graph_partitions(G, \"graph\", stc_assign, show_labels=False)"
   ]
  },
  {
   "cell_type": "code",
   "execution_count": 23,
   "metadata": {},
   "outputs": [],
   "source": [
    "mstc_assign = numpy.zeros(stc_assign.shape[0])\n",
    "for i in range(stc_assign.shape[0]):\n",
    "    if stc_assign[i] == 0.:\n",
    "        mstc_assign[i] = 1.\n",
    "    elif stc_assign[i] == 1.:\n",
    "        mstc_assign[i] = 0.\n",
    "    else:\n",
    "        mstc_assign[i] = 2."
   ]
  },
  {
   "cell_type": "code",
   "execution_count": null,
   "metadata": {},
   "outputs": [],
   "source": [
    "for v in G.nodes():\n",
    "    if v in labels:\n",
    "        print(v)"
   ]
  },
  {
   "cell_type": "code",
   "execution_count": 8,
   "metadata": {},
   "outputs": [
    {
     "name": "stdout",
     "output_type": "stream",
     "text": [
      "/usr/local/MATLAB/R2016a/bin/matlab -nodisplay -nodesktop -r 'run_lovain(graph.tmp,out_lovain.csv,1.0); exit;'\n",
      "23\n",
      "22\n",
      "21\n",
      "20\n",
      "19\n",
      "18\n",
      "17\n",
      "16\n",
      "15\n",
      "14\n",
      "13\n",
      "12\n",
      "11\n",
      "10\n",
      "9\n",
      "8\n",
      "7\n",
      "6\n",
      "5\n",
      "4\n",
      "3\n",
      "/usr/local/MATLAB/R2016a/bin/matlab -nodisplay -nodesktop -r 'run_lovain(graph.tmp,out_lovain.csv,2.0); exit;'\n",
      "21\n",
      "20\n",
      "19\n",
      "18\n",
      "17\n",
      "16\n",
      "15\n",
      "14\n",
      "13\n",
      "12\n",
      "11\n",
      "10\n",
      "9\n",
      "8\n",
      "7\n",
      "6\n",
      "5\n",
      "4\n",
      "3\n",
      "/usr/local/MATLAB/R2016a/bin/matlab -nodisplay -nodesktop -r 'run_lovain(graph.tmp,out_lovain.csv,3.0); exit;'\n",
      "21\n",
      "20\n",
      "19\n",
      "18\n",
      "17\n",
      "16\n",
      "15\n",
      "14\n",
      "13\n",
      "12\n",
      "11\n",
      "10\n",
      "9\n",
      "8\n",
      "7\n",
      "6\n",
      "5\n",
      "4\n",
      "3\n",
      "/usr/local/MATLAB/R2016a/bin/matlab -nodisplay -nodesktop -r 'run_lovain(graph.tmp,out_lovain.csv,4.0); exit;'\n",
      "20\n",
      "19\n",
      "18\n",
      "17\n",
      "16\n",
      "15\n",
      "14\n",
      "13\n",
      "12\n",
      "11\n",
      "10\n",
      "9\n",
      "8\n",
      "7\n",
      "6\n",
      "5\n",
      "4\n",
      "3\n",
      "/usr/local/MATLAB/R2016a/bin/matlab -nodisplay -nodesktop -r 'run_lovain(graph.tmp,out_lovain.csv,5.0); exit;'\n",
      "19\n",
      "18\n",
      "17\n",
      "16\n",
      "15\n",
      "14\n",
      "13\n",
      "12\n",
      "11\n",
      "10\n",
      "9\n",
      "8\n",
      "7\n",
      "6\n",
      "5\n",
      "4\n",
      "3\n",
      "/usr/local/MATLAB/R2016a/bin/matlab -nodisplay -nodesktop -r 'run_lovain(graph.tmp,out_lovain.csv,6.0); exit;'\n",
      "22\n",
      "21\n",
      "20\n",
      "19\n",
      "18\n",
      "17\n",
      "16\n",
      "15\n",
      "14\n",
      "13\n",
      "12\n",
      "11\n",
      "10\n",
      "9\n",
      "8\n",
      "7\n",
      "6\n",
      "5\n",
      "4\n",
      "3\n",
      "/usr/local/MATLAB/R2016a/bin/matlab -nodisplay -nodesktop -r 'run_lovain(graph.tmp,out_lovain.csv,7.0); exit;'\n",
      "22\n",
      "21\n",
      "20\n",
      "19\n",
      "18\n",
      "17\n",
      "16\n",
      "15\n",
      "14\n",
      "13\n",
      "12\n",
      "11\n",
      "10\n",
      "9\n",
      "8\n",
      "7\n",
      "6\n",
      "5\n",
      "4\n",
      "3\n",
      "/usr/local/MATLAB/R2016a/bin/matlab -nodisplay -nodesktop -r 'run_lovain(graph.tmp,out_lovain.csv,8.0); exit;'\n",
      "21\n",
      "20\n",
      "19\n",
      "18\n",
      "17\n",
      "16\n",
      "15\n",
      "14\n",
      "13\n",
      "12\n",
      "11\n",
      "10\n",
      "9\n",
      "8\n",
      "7\n",
      "6\n",
      "5\n",
      "4\n",
      "3\n",
      "/usr/local/MATLAB/R2016a/bin/matlab -nodisplay -nodesktop -r 'run_lovain(graph.tmp,out_lovain.csv,9.0); exit;'\n",
      "21\n",
      "20\n",
      "19\n",
      "18\n",
      "17\n",
      "16\n",
      "15\n",
      "14\n",
      "13\n",
      "12\n",
      "11\n",
      "10\n",
      "9\n",
      "8\n",
      "7\n",
      "6\n",
      "5\n",
      "4\n",
      "3\n"
     ]
    }
   ],
   "source": [
    "(lovain_assign, lovain_omega) = gen_lovain_search(G, 2, 1., 10., 1.)"
   ]
  },
  {
   "cell_type": "code",
   "execution_count": 10,
   "metadata": {},
   "outputs": [
    {
     "name": "stdout",
     "output_type": "stream",
     "text": [
      "LOVAIN {'Cut': 39.0, 'Sparsity': 0.00019414575866188768, 'Modularity': 38713.698521208818, 'N-sparsity': 6.03104130567405e-06}\n"
     ]
    }
   ],
   "source": [
    "part = get_partitions(G, lovain_assign)\n",
    "lovain = evaluate_multi_cut(G, part, lovain_assign, lovain_omega)\n",
    "print(\"LOVAIN\", lovain)"
   ]
  },
  {
   "cell_type": "code",
   "execution_count": 58,
   "metadata": {},
   "outputs": [
    {
     "name": "stdout",
     "output_type": "stream",
     "text": [
      "FACETNET {'Sparsity': 0.0009636791425710687, 'N-sparsity': 0.03903293509510221, 'Cut': 11.068188567784931, 'Modularity': 555.68566368791767}\n"
     ]
    }
   ],
   "source": [
    "part = get_partitions(G, facetnet_assign)\n",
    "facetnet = evaluate_multi_cut(G, part, facetnet_assign, lovain_omega)\n",
    "\n",
    "print(\"FACETNET\", facetnet)"
   ]
  },
  {
   "cell_type": "code",
   "execution_count": 57,
   "metadata": {},
   "outputs": [
    {
     "name": "stdout",
     "output_type": "stream",
     "text": [
      "/usr/local/MATLAB/R2012a/bin/matlab -nodisplay -nodesktop -r \"run_facetnet('graph.tmp','out_facetnet.csv',5,0.0); exit;\"\n",
      "/usr/local/MATLAB/R2012a/bin/matlab -nodisplay -nodesktop -r \"run_facetnet('graph.tmp','out_facetnet.csv',5,0.1); exit;\"\n",
      "/usr/local/MATLAB/R2012a/bin/matlab -nodisplay -nodesktop -r \"run_facetnet('graph.tmp','out_facetnet.csv',5,0.2); exit;\"\n",
      "/usr/local/MATLAB/R2012a/bin/matlab -nodisplay -nodesktop -r \"run_facetnet('graph.tmp','out_facetnet.csv',5,0.3); exit;\"\n",
      "/usr/local/MATLAB/R2012a/bin/matlab -nodisplay -nodesktop -r \"run_facetnet('graph.tmp','out_facetnet.csv',5,0.4); exit;\"\n",
      "/usr/local/MATLAB/R2012a/bin/matlab -nodisplay -nodesktop -r \"run_facetnet('graph.tmp','out_facetnet.csv',5,0.5); exit;\"\n",
      "/usr/local/MATLAB/R2012a/bin/matlab -nodisplay -nodesktop -r \"run_facetnet('graph.tmp','out_facetnet.csv',5,0.6); exit;\"\n",
      "/usr/local/MATLAB/R2012a/bin/matlab -nodisplay -nodesktop -r \"run_facetnet('graph.tmp','out_facetnet.csv',5,0.7); exit;\"\n",
      "/usr/local/MATLAB/R2012a/bin/matlab -nodisplay -nodesktop -r \"run_facetnet('graph.tmp','out_facetnet.csv',5,0.8); exit;\"\n",
      "/usr/local/MATLAB/R2012a/bin/matlab -nodisplay -nodesktop -r \"run_facetnet('graph.tmp','out_facetnet.csv',5,0.9); exit;\"\n"
     ]
    }
   ],
   "source": [
    "(facetnet_assign, facetnet_lambda) = facet_net_search(G, 5, lovain_omega)"
   ]
  },
  {
   "cell_type": "code",
   "execution_count": 6,
   "metadata": {},
   "outputs": [
    {
     "name": "stdout",
     "output_type": "stream",
     "text": [
      "/usr/local/MATLAB/R2016a/bin/matlab -nodisplay -nodesktop -r 'run_lovain(graph.tmp,out_lovain.csv,7.0); exit;'\n",
      "/usr/local/MATLAB/R2012a/bin/matlab -nodisplay -nodesktop -r \"run_facetnet('graph.tmp','out_facetnet.csv',5,0.0); exit;\"\n",
      "/usr/local/MATLAB/R2012a/bin/matlab -nodisplay -nodesktop -r \"run_facetnet('graph.tmp','out_facetnet.csv',5,0.1); exit;\"\n",
      "/usr/local/MATLAB/R2012a/bin/matlab -nodisplay -nodesktop -r \"run_facetnet('graph.tmp','out_facetnet.csv',5,0.2); exit;\"\n",
      "/usr/local/MATLAB/R2012a/bin/matlab -nodisplay -nodesktop -r \"run_facetnet('graph.tmp','out_facetnet.csv',5,0.3); exit;\"\n",
      "/usr/local/MATLAB/R2012a/bin/matlab -nodisplay -nodesktop -r \"run_facetnet('graph.tmp','out_facetnet.csv',5,0.4); exit;\"\n",
      "/usr/local/MATLAB/R2012a/bin/matlab -nodisplay -nodesktop -r \"run_facetnet('graph.tmp','out_facetnet.csv',5,0.5); exit;\"\n",
      "/usr/local/MATLAB/R2012a/bin/matlab -nodisplay -nodesktop -r \"run_facetnet('graph.tmp','out_facetnet.csv',5,0.6); exit;\"\n",
      "/usr/local/MATLAB/R2012a/bin/matlab -nodisplay -nodesktop -r \"run_facetnet('graph.tmp','out_facetnet.csv',5,0.7); exit;\"\n",
      "/usr/local/MATLAB/R2012a/bin/matlab -nodisplay -nodesktop -r \"run_facetnet('graph.tmp','out_facetnet.csv',5,0.8); exit;\"\n",
      "/usr/local/MATLAB/R2012a/bin/matlab -nodisplay -nodesktop -r \"run_facetnet('graph.tmp','out_facetnet.csv',5,0.9); exit;\"\n"
     ]
    }
   ],
   "source": [
    "res = community_detecion_experiments(G, 5)"
   ]
  },
  {
   "cell_type": "code",
   "execution_count": 4,
   "metadata": {},
   "outputs": [],
   "source": [
    "plot_community_detection_experiments(res, \"Sparsity\", \"figs/community_school_k2_sparsity.png\")\n",
    "plot_community_detection_experiments(res, \"N-sparsity\", \"figs/community_school_k2_n-sparsity.png\")\n",
    "plot_community_detection_experiments(res, \"Cut\", \"figs/community_school_k2_cut.png\")\n",
    "plot_community_detection_experiments(res, \"Modularity\", \"figs/community_school_k2_modularity.png\")"
   ]
  },
  {
   "cell_type": "code",
   "execution_count": 7,
   "metadata": {},
   "outputs": [
    {
     "data": {
      "text/plain": [
       "{'facetnet': {'Cut': 501.0,\n",
       "  'Modularity': 30116.015406098039,\n",
       "  'N-sparsity': 0.000277540940421443,\n",
       "  'Sparsity': 0.007256280860108412},\n",
       " 'gen_lovain': {'Cut': 174.0,\n",
       "  'Modularity': 39342.270435528531,\n",
       "  'N-sparsity': 4.085079207229059e-05,\n",
       "  'Sparsity': 0.0013160894292713388},\n",
       " 'nstc': {'Cut': 31.0,\n",
       "  'Modularity': 39015.049261337481,\n",
       "  'N-sparsity': 1.0209080980361433e-05,\n",
       "  'Sparsity': 0.00040542076556591874},\n",
       " 'stc': {'Cut': 40.0,\n",
       "  'Modularity': 38497.874759866449,\n",
       "  'N-sparsity': 6.249669805709633e-05,\n",
       "  'Sparsity': 0.0005201037337972396}}"
      ]
     },
     "execution_count": 7,
     "metadata": {},
     "output_type": "execute_result"
    }
   ],
   "source": [
    "res"
   ]
  },
  {
   "cell_type": "code",
   "execution_count": 19,
   "metadata": {},
   "outputs": [
    {
     "data": {
      "text/plain": [
       "{'Cut': 4.0686047267938195,\n",
       " 'Modularity': 574.72746557210678,\n",
       " 'N-sparsity': 0.054474574794046576,\n",
       " 'Sparsity': 0.0005494365839930601}"
      ]
     },
     "execution_count": 19,
     "metadata": {},
     "output_type": "execute_result"
    }
   ],
   "source": [
    "stc"
   ]
  },
  {
   "cell_type": "code",
   "execution_count": 20,
   "metadata": {},
   "outputs": [
    {
     "data": {
      "text/plain": [
       "{'Cut': 8.35027574785346,\n",
       " 'Modularity': 574.61618680896231,\n",
       " 'N-sparsity': 0.024671389618106193,\n",
       " 'Sparsity': 0.0005925402544825631}"
      ]
     },
     "execution_count": 20,
     "metadata": {},
     "output_type": "execute_result"
    }
   ],
   "source": [
    "nstc"
   ]
  },
  {
   "cell_type": "code",
   "execution_count": 21,
   "metadata": {},
   "outputs": [
    {
     "data": {
      "text/plain": [
       "{'Cut': 7.960280616564981,\n",
       " 'Modularity': 574.6601870326067,\n",
       " 'N-sparsity': 0.02678795423267052,\n",
       " 'Sparsity': 0.0006879926385083194}"
      ]
     },
     "execution_count": 21,
     "metadata": {},
     "output_type": "execute_result"
    }
   ],
   "source": [
    "lovain"
   ]
  },
  {
   "cell_type": "code",
   "execution_count": 22,
   "metadata": {},
   "outputs": [
    {
     "data": {
      "text/plain": [
       "{'Cut': 11.068188567784931,\n",
       " 'Modularity': 555.68566368791767,\n",
       " 'N-sparsity': 0.04786202847948735,\n",
       " 'Sparsity': 0.0011572308320720783}"
      ]
     },
     "execution_count": 22,
     "metadata": {},
     "output_type": "execute_result"
    }
   ],
   "source": [
    "facetnet"
   ]
  }
 ],
 "metadata": {
  "kernelspec": {
   "display_name": "Python 3",
   "language": "python",
   "name": "python3"
  },
  "language_info": {
   "codemirror_mode": {
    "name": "ipython",
    "version": 3
   },
   "file_extension": ".py",
   "mimetype": "text/x-python",
   "name": "python",
   "nbconvert_exporter": "python",
   "pygments_lexer": "ipython3",
   "version": "3.6.5"
  }
 },
 "nbformat": 4,
 "nbformat_minor": 1
}
